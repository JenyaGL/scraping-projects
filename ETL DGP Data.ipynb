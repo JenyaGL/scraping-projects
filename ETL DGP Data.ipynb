{
 "cells": [
  {
   "cell_type": "markdown",
   "id": "ca89b378",
   "metadata": {},
   "source": [
    "An international firm that is looking to expand its business in different countries across the world has recruited you. You have been hired as a junior Data Engineer and are tasked with creating an automated script that can extract the list of all countries in order of their GDPs in billion USDs (rounded to 2 decimal places), as logged by the International Monetary Fund (IMF). Since IMF releases this evaluation twice a year, this code will be used by the organization to extract the information as it is updated.\n",
    "\n",
    "You can find the required data on this webpage.\n",
    "https://web.archive.org/web/20230902185326/https://en.wikipedia.org/wiki/List_of_countries_by_GDP_%28nominal%29\n",
    "\n",
    "\n",
    "The required information needs to be made accessible as a JSON file 'Countries_by_GDP.json' as well as a table 'Countries_by_GDP' in a database file 'World_Economies.db' with attributes 'Country' and 'GDP_USD_billion.'\n",
    "\n",
    "Your boss wants you to demonstrate the success of this code by running a query on the database table to display only the entries with more than a 100 billion USD economy. Also, log the entire process of execution in a file named 'etl_project_log.txt'.\n",
    "\n",
    "You must create a Python code 'etl_project_gdp.py' that performs all the required tas"
   ]
  },
  {
   "cell_type": "markdown",
   "id": "d268d2fa",
   "metadata": {},
   "source": [
    "## Web scraping and Extracting Data"
   ]
  },
  {
   "cell_type": "code",
   "execution_count": 23,
   "id": "1e92ff50",
   "metadata": {},
   "outputs": [],
   "source": [
    "#libs\n",
    "import requests\n",
    "import sqlite3\n",
    "import pandas as pd\n",
    "from bs4 import BeautifulSoup"
   ]
  },
  {
   "cell_type": "code",
   "execution_count": 30,
   "id": "30983039",
   "metadata": {},
   "outputs": [],
   "source": [
    "#connections\n",
    "\n",
    "url = 'https://web.archive.org/web/20230902185326/https://en.wikipedia.org/wiki/List_of_countries_by_GDP_%28nominal%29'\n",
    "database = 'World_Economies.db'\n",
    "table_name = 'Countries_by_GDP'\n",
    "data_path = 'GDPProj/top_DGP_Countries'\n",
    "df = pd.DataFrame(columns=['Country','GDP_USD_billion'])\n",
    "count = 0"
   ]
  },
  {
   "cell_type": "code",
   "execution_count": 31,
   "id": "74073b24",
   "metadata": {},
   "outputs": [],
   "source": [
    "html_page = requests.get(url).text\n",
    "soup = BeautifulSoup(html_page, 'html.parser')\n",
    "\n",
    "# Locate the specific table\n",
    "table = soup.find(\"table\", {\"class\": \"wikitable sortable\"})"
   ]
  },
  {
   "cell_type": "code",
   "execution_count": 32,
   "id": "35d553f1",
   "metadata": {},
   "outputs": [
    {
     "name": "stdout",
     "output_type": "stream",
     "text": [
      "Table 0: Classes - None\n",
      "Table 1: Classes - None\n",
      "Table 2: Classes - ['wikitable', 'sortable', 'static-row-numbers', 'plainrowheaders', 'srn-white-background']\n",
      "Table 3: Classes - ['nowraplinks', 'mw-collapsible', 'autocollapse', 'navbox-inner']\n",
      "Table 4: Classes - ['nowraplinks', 'mw-collapsible', 'uncollapsed', 'navbox-inner']\n",
      "Table 5: Classes - ['nowraplinks', 'hlist', 'mw-collapsible', 'autocollapse', 'navbox-inner']\n",
      "Table 6: Classes - ['nowraplinks', 'navbox-subgroup']\n",
      "First few rows of the table:\n",
      "<tr class=\"static-row-header\" style=\"text-align:center;vertical-align:bottom;\">\n",
      "<th rowspan=\"2\">Country/Territory\n",
      "</th>\n",
      "<th rowspan=\"2\"><a href=\"/web/20230902185326/https://en.wikipedia.org/wiki/United_Nations_geoscheme\" title=\"United Nations geoscheme\">UN region</a>\n",
      "</th>\n",
      "<th colspan=\"2\"><a href=\"/web/20230902185326/https://en.wikipedia.org/wiki/International_Monetary_Fund\" title=\"International Monetary Fund\">IMF</a><sup class=\"reference\" id=\"cite_ref-GDP_IMF_2-2\"><a href=\"#cite_note-GDP_IMF-2\">[1]</a></sup><sup class=\"reference\" id=\"cite_ref-15\"><a href=\"#cite_note-15\">[13]</a></sup>\n",
      "</th>\n",
      "<th colspan=\"2\"><a href=\"/web/20230902185326/https://en.wikipedia.org/wiki/World_Bank\" title=\"World Bank\">World Bank</a><sup class=\"reference\" id=\"cite_ref-16\"><a href=\"#cite_note-16\">[14]</a></sup>\n",
      "</th>\n",
      "<th colspan=\"2\"><a href=\"/web/20230902185326/https://en.wikipedia.org/wiki/United_Nations\" title=\"United Nations\">United Nations</a><sup class=\"reference\" id=\"cite_ref-UN_17-0\"><a href=\"#cite_note-UN-17\">[15]</a></sup>\n",
      "</th></tr>\n",
      "<tr class=\"static-row-header\" style=\"text-align:center;vertical-align:bottom;\">\n",
      "<th>Estimate</th>\n",
      "<th>Year</th>\n",
      "<th>Estimate</th>\n",
      "<th>Year</th>\n",
      "<th>Estimate</th>\n",
      "<th>Year\n",
      "</th></tr>\n",
      "<tr class=\"static-row-header\" style=\"font-weight:bold;\">\n",
      "<td style=\"text-align:left\"><span class=\"flagicon\" style=\"padding-left:25px;\"> </span>World</td>\n",
      "<td style=\"text-align:center\">—</td>\n",
      "<td>105,568,776</td>\n",
      "<td>2023</td>\n",
      "<td>100,562,011</td>\n",
      "<td>2022</td>\n",
      "<td>96,698,005</td>\n",
      "<td>2021\n",
      "</td></tr>\n",
      "<tr>\n",
      "<td style=\"text-align:left\"><span class=\"flagicon\" style=\"display:inline-block;width:25px;text-align:left\"><span class=\"mw-image-border\" typeof=\"mw:File\"><span><img alt=\"\" class=\"mw-file-element\" data-file-height=\"650\" data-file-width=\"1235\" decoding=\"async\" height=\"12\" src=\"//web.archive.org/web/20230902185326im_/https://upload.wikimedia.org/wikipedia/en/thumb/a/a4/Flag_of_the_United_States.svg/23px-Flag_of_the_United_States.svg.png\" srcset=\"//web.archive.org/web/20230902185326im_/https://upload.wikimedia.org/wikipedia/en/thumb/a/a4/Flag_of_the_United_States.svg/35px-Flag_of_the_United_States.svg.png 1.5x, //web.archive.org/web/20230902185326im_/https://upload.wikimedia.org/wikipedia/en/thumb/a/a4/Flag_of_the_United_States.svg/46px-Flag_of_the_United_States.svg.png 2x\" width=\"23\"/></span></span></span> <a href=\"/web/20230902185326/https://en.wikipedia.org/wiki/Economy_of_the_United_States\" title=\"Economy of the United States\">United States</a></td>\n",
      "<td style=\"text-align:center\"><a href=\"/web/20230902185326/https://en.wikipedia.org/wiki/Americas\" title=\"Americas\">Americas</a></td>\n",
      "<td>26,854,599</td>\n",
      "<td>2023</td>\n",
      "<td>25,462,700</td>\n",
      "<td>2022</td>\n",
      "<td>23,315,081</td>\n",
      "<td>2021\n",
      "</td></tr>\n",
      "<tr>\n",
      "<td style=\"text-align:left\"><span class=\"flagicon\" style=\"display:inline-block;width:25px;text-align:left\"><span class=\"mw-image-border\" typeof=\"mw:File\"><span><img alt=\"\" class=\"mw-file-element\" data-file-height=\"600\" data-file-width=\"900\" decoding=\"async\" height=\"15\" src=\"//web.archive.org/web/20230902185326im_/https://upload.wikimedia.org/wikipedia/commons/thumb/f/fa/Flag_of_the_People%27s_Republic_of_China.svg/23px-Flag_of_the_People%27s_Republic_of_China.svg.png\" srcset=\"//web.archive.org/web/20230902185326im_/https://upload.wikimedia.org/wikipedia/commons/thumb/f/fa/Flag_of_the_People%27s_Republic_of_China.svg/35px-Flag_of_the_People%27s_Republic_of_China.svg.png 1.5x, //web.archive.org/web/20230902185326im_/https://upload.wikimedia.org/wikipedia/commons/thumb/f/fa/Flag_of_the_People%27s_Republic_of_China.svg/45px-Flag_of_the_People%27s_Republic_of_China.svg.png 2x\" width=\"23\"/></span></span></span> <a class=\"mw-redirect\" href=\"/web/20230902185326/https://en.wikipedia.org/wiki/GDP_of_China\" title=\"GDP of China\">China</a></td>\n",
      "<td style=\"text-align:center\"><a href=\"/web/20230902185326/https://en.wikipedia.org/wiki/Asia\" title=\"Asia\">Asia</a></td>\n",
      "<td>19,373,586</td>\n",
      "<td><sup class=\"reference\" id=\"cite_ref-China-THM_1-1\"><a href=\"#cite_note-China-THM-1\">[n 1]</a></sup>2023</td>\n",
      "<td>17,963,171</td>\n",
      "<td><sup class=\"reference\" id=\"cite_ref-China-HM_18-0\"><a href=\"#cite_note-China-HM-18\">[n 3]</a></sup>2022</td>\n",
      "<td>17,734,131</td>\n",
      "<td><sup class=\"reference\" id=\"cite_ref-China-THM_1-2\"><a href=\"#cite_note-China-THM-1\">[n 1]</a></sup>2021\n",
      "</td></tr>\n"
     ]
    }
   ],
   "source": [
    "# Print class names of all tables to identify the target table\n",
    "tables = soup.find_all(\"table\")\n",
    "for i, table in enumerate(tables):\n",
    "    print(f\"Table {i}: Classes - {table.get('class')}\")\n",
    "\n",
    "# Attempt to locate the correct table by indexing (assuming it may be the first or second table)\n",
    "# Based on the output, you may need to adjust the index to target the correct table\n",
    "table = tables[2]  # Change the index based on the output of the above print statements\n",
    "\n",
    "# Verify table selection\n",
    "print(\"First few rows of the table:\")\n",
    "for row in table.find(\"tbody\").find_all(\"tr\")[:5]:  # Print first 5 rows to confirm\n",
    "    print(row)\n"
   ]
  },
  {
   "cell_type": "code",
   "execution_count": 33,
   "id": "cf677382",
   "metadata": {},
   "outputs": [
    {
     "name": "stdout",
     "output_type": "stream",
     "text": [
      "           Country GDP_USD_billion\n",
      "0            World       105568776\n",
      "1    United States        26854599\n",
      "2            China        19373586\n",
      "3            Japan         4409738\n",
      "4          Germany         4308854\n",
      "..             ...             ...\n",
      "209       Anguilla            None\n",
      "210       Kiribati             248\n",
      "211          Nauru             151\n",
      "212     Montserrat            None\n",
      "213         Tuvalu              65\n",
      "\n",
      "[214 rows x 2 columns]\n"
     ]
    }
   ],
   "source": [
    "if table is None:\n",
    "    print(\"Table not found on the page.\")\n",
    "else:\n",
    "    # Initialize an empty DataFrame\n",
    "    df = pd.DataFrame(columns=[\"Country\", \"GDP_USD_billion\"])\n",
    "\n",
    "    # Iterate through each row in the table body\n",
    "    for row in table.find(\"tbody\").find_all(\"tr\"):\n",
    "        col = row.find_all('td')  # Find all columns in the row\n",
    "\n",
    "        # Ensure that the row has enough columns to avoid empty or irrelevant rows\n",
    "        if len(col) >= 3:\n",
    "            # Extract the country name from the first column\n",
    "            country = col[0].get_text(strip=True)\n",
    "            \n",
    "            # Extract the IMF estimate GDP value from the third column, handling commas\n",
    "            gdp_text = col[2].get_text(strip=True).replace(',', '')\n",
    "\n",
    "            # Convert GDP to a numeric value if possible\n",
    "            try:\n",
    "                gdp = float(gdp_text) if '.' in gdp_text else int(gdp_text)\n",
    "            except ValueError:\n",
    "                gdp = None  # Set to None if conversion fails\n",
    "\n",
    "            # Append the data to the DataFrame\n",
    "            df = pd.concat([df, pd.DataFrame({'Country': [country], 'GDP_USD_billion': [gdp]})], ignore_index=True)\n",
    "\n",
    "# Display the resulting DataFrame\n",
    "print(df)"
   ]
  },
  {
   "cell_type": "code",
   "execution_count": 34,
   "id": "a3f5a00d",
   "metadata": {},
   "outputs": [],
   "source": [
    "df.to_csv(data_path) #as we called it the connections cell"
   ]
  },
  {
   "cell_type": "code",
   "execution_count": null,
   "id": "892009fe",
   "metadata": {},
   "outputs": [],
   "source": []
  }
 ],
 "metadata": {
  "kernelspec": {
   "display_name": "Python 3 (ipykernel)",
   "language": "python",
   "name": "python3"
  },
  "language_info": {
   "codemirror_mode": {
    "name": "ipython",
    "version": 3
   },
   "file_extension": ".py",
   "mimetype": "text/x-python",
   "name": "python",
   "nbconvert_exporter": "python",
   "pygments_lexer": "ipython3",
   "version": "3.11.7"
  }
 },
 "nbformat": 4,
 "nbformat_minor": 5
}

{
 "cells": [
  {
   "cell_type": "markdown",
   "id": "12a383b7",
   "metadata": {},
   "source": [
    "## This is a frame for ELT processes for CSV/JSON & XML file formats\n",
    "    - The xml library can be used to parse the information from an .xml file format. The .csv and .json file formats can be read using the pandas library. You will use the pandas library to create a data frame format that will store the extracted data from any file.\n",
    "\n",
    "    - To call the correct function for data extraction, you need to access the file format information. For this access, you can use the glob library.\n",
    "\n",
    "    - To log the information correctly, you need the date and time information at the point of logging. For this information, you require the datetime package."
   ]
  },
  {
   "cell_type": "code",
   "execution_count": 5,
   "id": "df4ae01b",
   "metadata": {},
   "outputs": [],
   "source": [
    "import glob \n",
    "import pandas as pd \n",
    "import xml.etree.ElementTree as ET \n",
    "from datetime import datetime "
   ]
  },
  {
   "cell_type": "markdown",
   "id": "1429392b",
   "metadata": {},
   "source": [
    "    - Note that you import only the ElementTree function from the xml.etree library because you require that function\n",
    "    to parse the data from an XML file format.\n",
    "\n",
    "    - You also require two file paths that will be available globally in the code for all functions.\n",
    "    \n",
    "    These are transformed_data.csv, to store the final output data that you can load to a database,\n",
    "    and log_file.txt, that stores all the logs.\n"
   ]
  },
  {
   "cell_type": "markdown",
   "id": "60335f66",
   "metadata": {},
   "source": [
    "## Task 1: Extraction\n",
    "\n",
    "You will develop the functions to extract the data from different file formats. As there will be different functions for the file formats, you'll have to write one function each for the .csv, .json, and the .xml filetypes."
   ]
  },
  {
   "cell_type": "markdown",
   "id": "804e599d",
   "metadata": {},
   "source": [
    "    - You can name these three functions as extract_from_csv(), extract_from_json(), and extract_from_xml(). \n",
    "      You need to pass the data file as an argument, file_to_process, to each function.\n",
    "      To extract from a CSV file, you can define the function extract_from_csv()\n",
    "      "
   ]
  },
  {
   "cell_type": "code",
   "execution_count": 8,
   "id": "02c0d162",
   "metadata": {},
   "outputs": [],
   "source": [
    "def extract_from_csv(file_to_process): \n",
    "    dataframe = pd.read_csv(file_to_process) \n",
    "    return dataframe "
   ]
  },
  {
   "cell_type": "markdown",
   "id": "632a1483",
   "metadata": {},
   "source": [
    "    - To extract from a JSON file, you can define the function extract_from_json()using the pandas function read_json. \n",
    "      It requires an extra argument lines=True to enable the function to read the file as a JSON object on line to line basi\n",
    "      as Follows\n",
    "     \n",
    "\n"
   ]
  },
  {
   "cell_type": "code",
   "execution_count": 9,
   "id": "0f5704de",
   "metadata": {},
   "outputs": [],
   "source": [
    "def extract_from_json(file_to_process): \n",
    "    dataframe = pd.read_json(file_to_process, lines=True) \n",
    "    return dataframe "
   ]
  },
  {
   "cell_type": "markdown",
   "id": "d976fd02",
   "metadata": {},
   "source": [
    "    - To extract from an XML file, you need first to parse the data from the file using the ElementTree function.\n",
    "      You can then extract relevant information from this data and append it to a pandas dataframe as follows.\n",
    "\n",
    "Note: You must know the headers of the extracted data to write this function. In this data, you extract \"name\", \"height\", and \"weight\" headers for different persons."
   ]
  },
  {
   "cell_type": "code",
   "execution_count": 10,
   "id": "e905afbf",
   "metadata": {},
   "outputs": [],
   "source": [
    "def extract_from_xml(file_to_process): \n",
    "    dataframe = pd.DataFrame(columns=[\"name\", \"height\", \"weight\"]) \n",
    "    tree = ET.parse(file_to_process) \n",
    "    root = tree.getroot() \n",
    "    for person in root: \n",
    "        name = person.find(\"name\").text \n",
    "        height = float(person.find(\"height\").text) \n",
    "        weight = float(person.find(\"weight\").text) \n",
    "        dataframe = pd.concat([dataframe, pd.DataFrame([{\"name\":name, \"height\":height, \"weight\":weight}])], ignore_index=True) \n",
    "    return dataframe "
   ]
  },
  {
   "cell_type": "markdown",
   "id": "9ad39ac7",
   "metadata": {},
   "source": [
    "Now you need a function to identify which function to call on basis of the filetype of the data file. To call the relevant function, write a function extract, which uses the glob library to identify the filetype. This can be done as follows:\n"
   ]
  },
  {
   "cell_type": "code",
   "execution_count": 20,
   "id": "8380cbdd",
   "metadata": {},
   "outputs": [],
   "source": [
    "def extract(): \n",
    "    extracted_data = pd.DataFrame(columns=['name','height','weight']) # create an empty data frame to hold extracted data \n",
    "    # process all csv files \n",
    "    for csvfile in glob.glob(\"*.csv\"): \n",
    "        extracted_data = pd.concat([extracted_data, pd.DataFrame(extract_from_csv(csvfile))], ignore_index=True) \n",
    "         \n",
    "    # process all json files \n",
    "    for jsonfile in glob.glob(\"*.json\"): \n",
    "        extracted_data = pd.concat([extracted_data, pd.DataFrame(extract_from_json(jsonfile))], ignore_index=True) \n",
    "     \n",
    "    # process all xml files \n",
    "    for xmlfile in glob.glob(\"*.xml\"): \n",
    "        extracted_data = pd.concat([extracted_data, pd.DataFrame(extract_from_xml(xmlfile))], ignore_index=True) \n",
    "         \n",
    "    return extracted_data "
   ]
  },
  {
   "cell_type": "markdown",
   "id": "1156fb8a",
   "metadata": {},
   "source": [
    "----------------------------------------------------"
   ]
  },
  {
   "cell_type": "markdown",
   "id": "790e9ec9",
   "metadata": {},
   "source": [
    "## Task 2 - Transformation\n"
   ]
  },
  {
   "cell_type": "markdown",
   "id": "836ada7c",
   "metadata": {},
   "source": [
    "    - The height in the extracted data is in inches, and the weight is in pounds.\n",
    "      However, for your application, the height is required to be in meters, and the weight is required to be in kilograms,\n",
    "      rounded to two decimal places.\n",
    "      Therefore, you need to write the function to perform the unit conversion for the two parameters.\n",
    "\n",
    "    - The name of this function will be transform(), and it will receive the extracted dataframe as the input.\n",
    "      Since the dataframe is in the form of a dictionary with three keys, \"name\", \"height\", and \"weight\",\n",
    "      each of them having a list of values, you can apply the transform function on the entire list at one go."
   ]
  },
  {
   "cell_type": "code",
   "execution_count": 24,
   "id": "fa94b666",
   "metadata": {},
   "outputs": [],
   "source": [
    "def transform(data): \n",
    "#Convert inches to meters and round off to two decimals 1 inch is 0.0254 meter\n",
    "    data['height'] = round(data.height * 0.0254,2) \n",
    "\n",
    "#Convert pounds to kilograms and round off to two decimals 1 pound is 0.45359237 kilograms\n",
    "    data['weight'] = round(data.weight * 0.45359237,2) \n",
    "    \n",
    "    return data "
   ]
  },
  {
   "cell_type": "markdown",
   "id": "9be4120b",
   "metadata": {},
   "source": [
    "The output of this function will now be a dataframe where the \"height\" and \"weight\" parameters will be modified to the required format."
   ]
  },
  {
   "cell_type": "code",
   "execution_count": 25,
   "id": "84e65625",
   "metadata": {},
   "outputs": [],
   "source": [
    "log_file = \"log_file.txt\" \n",
    "target_file = \"transformed_data.csv\" "
   ]
  },
  {
   "cell_type": "markdown",
   "id": "2c03b804",
   "metadata": {},
   "source": [
    "---------------------------------------"
   ]
  },
  {
   "cell_type": "markdown",
   "id": "29e6dca0",
   "metadata": {},
   "source": [
    "## Task 3 - Loading and Logging\n"
   ]
  },
  {
   "cell_type": "markdown",
   "id": "8fbb9328",
   "metadata": {},
   "source": [
    "You need to load the transformed data to a CSV file that you can use to load to a database as per requirement.\n",
    "\n",
    "To load the data, you need a function load_data() that accepts the transformed data as a dataframe and the target_file path. You need to use the to_csv attribute of the dataframe in the function"
   ]
  },
  {
   "cell_type": "code",
   "execution_count": 26,
   "id": "01b2e8c7",
   "metadata": {},
   "outputs": [],
   "source": [
    "def load_data(target_file, transformed_data): \n",
    "    transformed_data.to_csv(target_file) "
   ]
  },
  {
   "cell_type": "markdown",
   "id": "66f6dac8",
   "metadata": {},
   "source": [
    "Finally, you need to implement the logging operation to record the progress of the different operations. For this operation, you need to record a message, along with its timestamp, in the log_file.\n",
    "\n",
    "To record the message, you need to implement a function log_progress() that accepts the log message as the argument. The function captures the current date and time using the datetime function from the datetime library. The use of this function requires the definition of a date-time format, and you need to convert the timestamp to a string format using the strftime attribute. "
   ]
  },
  {
   "cell_type": "code",
   "execution_count": 27,
   "id": "869a8189",
   "metadata": {},
   "outputs": [],
   "source": [
    "def log_progress(message): \n",
    "    timestamp_format = '%Y-%h-%d-%H:%M:%S' # Year-Monthname-Day-Hour-Minute-Second \n",
    "    now = datetime.now() # get current timestamp \n",
    "    timestamp = now.strftime(timestamp_format) \n",
    "    with open(log_file,\"a\") as f: \n",
    "        f.write(timestamp + ',' + message + '\\n') "
   ]
  },
  {
   "cell_type": "markdown",
   "id": "57e5d622",
   "metadata": {},
   "source": [
    "-----------------------------"
   ]
  },
  {
   "cell_type": "markdown",
   "id": "dd8e56bf",
   "metadata": {},
   "source": [
    "## Testing ETL operations and log progress\n",
    "\n",
    "test the functions you have developed so far and log your progress along the way. Insert the following lines into your code to complete the process\n"
   ]
  },
  {
   "cell_type": "code",
   "execution_count": 28,
   "id": "4876621a",
   "metadata": {
    "scrolled": false
   },
   "outputs": [
    {
     "name": "stdout",
     "output_type": "stream",
     "text": [
      "Transformed Data\n",
      "Empty DataFrame\n",
      "Columns: [name, height, weight]\n",
      "Index: []\n"
     ]
    }
   ],
   "source": [
    "# Log the initialization of the ETL process \n",
    "log_progress(\"ETL Job Started\") \n",
    " \n",
    "# Log the beginning of the Extraction process \n",
    "log_progress(\"Extract phase Started\") \n",
    "extracted_data = extract() \n",
    " \n",
    "# Log the completion of the Extraction process \n",
    "log_progress(\"Extract phase Ended\") \n",
    " \n",
    "# Log the beginning of the Transformation process \n",
    "log_progress(\"Transform phase Started\") \n",
    "transformed_data = transform(extracted_data) \n",
    "print(\"Transformed Data\") \n",
    "print(transformed_data) \n",
    " \n",
    "# Log the completion of the Transformation process \n",
    "log_progress(\"Transform phase Ended\") \n",
    " \n",
    "# Log the beginning of the Loading process \n",
    "log_progress(\"Load phase Started\") \n",
    "load_data(target_file,transformed_data) \n",
    " \n",
    "# Log the completion of the Loading process \n",
    "log_progress(\"Load phase Ended\") \n",
    " \n",
    "# Log the completion of the ETL process \n",
    "log_progress(\"ETL Job Ended\") "
   ]
  },
  {
   "cell_type": "markdown",
   "id": "61851b3b",
   "metadata": {},
   "source": [
    "-------------------------"
   ]
  }
 ],
 "metadata": {
  "kernelspec": {
   "display_name": "Python 3 (ipykernel)",
   "language": "python",
   "name": "python3"
  },
  "language_info": {
   "codemirror_mode": {
    "name": "ipython",
    "version": 3
   },
   "file_extension": ".py",
   "mimetype": "text/x-python",
   "name": "python",
   "nbconvert_exporter": "python",
   "pygments_lexer": "ipython3",
   "version": "3.11.7"
  }
 },
 "nbformat": 4,
 "nbformat_minor": 5
}

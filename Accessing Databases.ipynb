{
 "cells": [
  {
   "cell_type": "markdown",
   "id": "1370e911",
   "metadata": {},
   "source": [
    "## Accessing Databases with Python"
   ]
  },
  {
   "cell_type": "markdown",
   "id": "ff07ec3c",
   "metadata": {},
   "source": [
    "-  This is a frame for how to create a database, load data from a CSV file as a table, and then run queries on the data.\n",
    "\n",
    "\n",
    "\n",
    "\n",
    "first steps are:\n",
    "\n",
    "- Create a database\n",
    "\n",
    "- Load the data from a CSV file as a table to the database\n",
    "\n",
    "- Run sql queries on the database and access data\n",
    "\n"
   ]
  },
  {
   "cell_type": "raw",
   "id": "90188b02",
   "metadata": {},
   "source": [
    "--------------------------"
   ]
  },
  {
   "cell_type": "code",
   "execution_count": 63,
   "id": "8d604cb9",
   "metadata": {},
   "outputs": [],
   "source": [
    "#lib\n",
    "import sqlite3\n",
    "import pandas as pd\n",
    "conn = sqlite3.connect('STAFF.db')\n",
    "# we connect to a db here"
   ]
  },
  {
   "cell_type": "markdown",
   "id": "a2d0851d",
   "metadata": {},
   "source": [
    "   - creating a table to upload to the DB"
   ]
  },
  {
   "cell_type": "code",
   "execution_count": 64,
   "id": "48ee3b8b",
   "metadata": {},
   "outputs": [],
   "source": [
    "# Define table parameters\n",
    "table_name = 'INSTRUCTOR'\n",
    "attribute_list = ['ID', 'FNAME', 'LNAME', 'CITY', 'CCODE']"
   ]
  },
  {
   "cell_type": "markdown",
   "id": "ad05f506",
   "metadata": {},
   "source": [
    "Now, to read the CSV using Pandas, you use the read_csv() function. Since this CSV does not contain headers, you can use the keys of the attribute_dict dictionary as a list to assign headers to the data. For this, add the commands below to db_code.py."
   ]
  },
  {
   "cell_type": "code",
   "execution_count": 65,
   "id": "2c8d66f0",
   "metadata": {},
   "outputs": [],
   "source": [
    "# Read the CSV data\n",
    "file_path = 'DB Project/INSTRUCTOR.csv'\n",
    "df = pd.read_csv(file_path, names = attribute_list)"
   ]
  },
  {
   "attachments": {
    "image.png": {
     "image/png": "[encoded data removed]"
    }
   },
   "cell_type": "markdown",
   "id": "33a4ca07",
   "metadata": {},
   "source": [
    "   - Loading the data to the database\n",
    "\n",
    "\n",
    "The pandas library provides easy loading of its dataframes directly to the database. For this, you may use the to_sql() method of the dataframe object.\n",
    "\n",
    "However, while you load the data for creating the table, you need to be careful if a table with the same name already exists in the database. If so, and it isn't required anymore, the tables should be replaced with the one you are loading here. You may also need to append some information to an existing table. For this purpose, to_sql() function uses the argument if_exists. The possible usage of if_exists is tabulated below.\n",
    "\n",
    "![image.png](attachment:image.png)"
   ]
  },
  {
   "cell_type": "code",
   "execution_count": 66,
   "id": "892a946c",
   "metadata": {},
   "outputs": [
    {
     "name": "stdout",
     "output_type": "stream",
     "text": [
      "Table is ready\n"
     ]
    }
   ],
   "source": [
    "# Load the CSV to the database\n",
    "df.to_sql(table_name, conn, if_exists = 'replace', index =False)\n",
    "print('Table is ready')"
   ]
  },
  {
   "cell_type": "markdown",
   "id": "b90d91b4",
   "metadata": {},
   "source": [
    "----------------------------\n",
    "### Running basic queries on data"
   ]
  },
  {
   "cell_type": "code",
   "execution_count": 67,
   "id": "022aa99f",
   "metadata": {
    "scrolled": false
   },
   "outputs": [
    {
     "name": "stdout",
     "output_type": "stream",
     "text": [
      "SELECT * FROM INSTRUCTOR\n",
      "    ID    FNAME      LNAME      CITY CCODE\n",
      "0    1      Rav      Ahuja   TORONTO    CA\n",
      "1    2     Raul      Chong   Markham    CA\n",
      "2    3     Hima  Vasudevan   Chicago    US\n",
      "3    4     John     Thomas  Illinois    US\n",
      "4    5    Alice      James  Illinois    US\n",
      "5    6    Steve      Wells  Illinois    US\n",
      "6    7  Santosh      Kumar  Illinois    US\n",
      "7    8    Ahmed    Hussain  Illinois    US\n",
      "8    9    Nancy      Allen  Illinois    US\n",
      "9   10     Mary     Thomas  Illinois    US\n",
      "10  11  Bharath      Gupta  Illinois    US\n",
      "11  12   Andrea      Jones  Illinois    US\n",
      "12  13      Ann      Jacob  Illinois    US\n",
      "13  14     Amit      Kumar  NewDelhi    IN\n"
     ]
    }
   ],
   "source": [
    "query_statement = f\"SELECT * FROM {table_name}\"\n",
    "query_output = pd.read_sql(query_statement, conn)\n",
    "print(query_statement)\n",
    "print(query_output)"
   ]
  },
  {
   "cell_type": "code",
   "execution_count": 68,
   "id": "3a04578e",
   "metadata": {
    "scrolled": true
   },
   "outputs": [
    {
     "name": "stdout",
     "output_type": "stream",
     "text": [
      "SELECT FNAME FROM INSTRUCTOR\n",
      "      FNAME\n",
      "0       Rav\n",
      "1      Raul\n",
      "2      Hima\n",
      "3      John\n",
      "4     Alice\n",
      "5     Steve\n",
      "6   Santosh\n",
      "7     Ahmed\n",
      "8     Nancy\n",
      "9      Mary\n",
      "10  Bharath\n",
      "11   Andrea\n",
      "12      Ann\n",
      "13     Amit\n"
     ]
    }
   ],
   "source": [
    "query_statement = f\"SELECT FNAME FROM {table_name}\"\n",
    "query_output = pd.read_sql(query_statement, conn)\n",
    "print(query_statement)\n",
    "print(query_output)"
   ]
  },
  {
   "cell_type": "code",
   "execution_count": 69,
   "id": "b317bf4f",
   "metadata": {
    "scrolled": false
   },
   "outputs": [
    {
     "name": "stdout",
     "output_type": "stream",
     "text": [
      "SELECT COUNT(*) FROM INSTRUCTOR\n",
      "   COUNT(*)\n",
      "0        14\n"
     ]
    }
   ],
   "source": [
    "query_statement = f\"SELECT COUNT(*) FROM {table_name}\"\n",
    "query_output = pd.read_sql(query_statement, conn)\n",
    "print(query_statement)\n",
    "print(query_output)"
   ]
  },
  {
   "cell_type": "markdown",
   "id": "076d28ea",
   "metadata": {},
   "source": [
    "-------------------------\n",
    "this is how we can append data to tables, manually."
   ]
  },
  {
   "cell_type": "code",
   "execution_count": 83,
   "id": "18557299",
   "metadata": {},
   "outputs": [],
   "source": [
    "data_dict = {'ID' : [100],\n",
    "            'FNAME' : ['John'],\n",
    "            'LNAME' : ['Doe'],\n",
    "            'CITY' : ['Paris'],\n",
    "            'CCODE' : ['FR']}\n",
    "data_append = pd.DataFrame(data_dict)"
   ]
  },
  {
   "cell_type": "code",
   "execution_count": 84,
   "id": "f13f7ade",
   "metadata": {},
   "outputs": [
    {
     "name": "stdout",
     "output_type": "stream",
     "text": [
      "Data appended\n"
     ]
    }
   ],
   "source": [
    "data_append.to_sql(table_name, conn, if_exists = 'append', index =False)\n",
    "print('Data appended')"
   ]
  },
  {
   "cell_type": "code",
   "execution_count": 85,
   "id": "a0fe4527",
   "metadata": {
    "scrolled": false
   },
   "outputs": [
    {
     "name": "stdout",
     "output_type": "stream",
     "text": [
      "SELECT COUNT(*) FROM INSTRUCTOR\n",
      "   COUNT(*)\n",
      "0        15\n"
     ]
    }
   ],
   "source": [
    "query_statement = f\"SELECT COUNT(*) FROM {table_name}\"\n",
    "query_output = pd.read_sql(query_statement, conn)\n",
    "print(query_statement)\n",
    "print(query_output)"
   ]
  },
  {
   "cell_type": "code",
   "execution_count": 86,
   "id": "720d79a0",
   "metadata": {},
   "outputs": [
    {
     "ename": "TypeError",
     "evalue": "'NoneType' object is not iterable",
     "output_type": "error",
     "traceback": [
      "\u001b[1;31m---------------------------------------------------------------------------\u001b[0m",
      "\u001b[1;31mTypeError\u001b[0m                                 Traceback (most recent call last)",
      "Cell \u001b[1;32mIn[86], line 2\u001b[0m\n\u001b[0;32m      1\u001b[0m query_statement \u001b[38;5;241m=\u001b[39m \u001b[38;5;124mf\u001b[39m\u001b[38;5;124m\"\u001b[39m\u001b[38;5;124mDELETE FROM INSTRUCTOR WHERE CITY = \u001b[39m\u001b[38;5;124m'\u001b[39m\u001b[38;5;124mParis\u001b[39m\u001b[38;5;124m'\u001b[39m\u001b[38;5;124m AND CCODE = \u001b[39m\u001b[38;5;124m'\u001b[39m\u001b[38;5;124mFR\u001b[39m\u001b[38;5;124m'\u001b[39m\u001b[38;5;124m\"\u001b[39m\n\u001b[1;32m----> 2\u001b[0m query_output \u001b[38;5;241m=\u001b[39m pd\u001b[38;5;241m.\u001b[39mread_sql(query_statement, conn)\n\u001b[0;32m      3\u001b[0m \u001b[38;5;28mprint\u001b[39m(query_statement)\n\u001b[0;32m      4\u001b[0m \u001b[38;5;28mprint\u001b[39m(query_output)\n",
      "File \u001b[1;32m~\\anaconda3\\Lib\\site-packages\\pandas\\io\\sql.py:654\u001b[0m, in \u001b[0;36mread_sql\u001b[1;34m(sql, con, index_col, coerce_float, params, parse_dates, columns, chunksize, dtype_backend, dtype)\u001b[0m\n\u001b[0;32m    652\u001b[0m \u001b[38;5;28;01mwith\u001b[39;00m pandasSQL_builder(con) \u001b[38;5;28;01mas\u001b[39;00m pandas_sql:\n\u001b[0;32m    653\u001b[0m     \u001b[38;5;28;01mif\u001b[39;00m \u001b[38;5;28misinstance\u001b[39m(pandas_sql, SQLiteDatabase):\n\u001b[1;32m--> 654\u001b[0m         \u001b[38;5;28;01mreturn\u001b[39;00m pandas_sql\u001b[38;5;241m.\u001b[39mread_query(\n\u001b[0;32m    655\u001b[0m             sql,\n\u001b[0;32m    656\u001b[0m             index_col\u001b[38;5;241m=\u001b[39mindex_col,\n\u001b[0;32m    657\u001b[0m             params\u001b[38;5;241m=\u001b[39mparams,\n\u001b[0;32m    658\u001b[0m             coerce_float\u001b[38;5;241m=\u001b[39mcoerce_float,\n\u001b[0;32m    659\u001b[0m             parse_dates\u001b[38;5;241m=\u001b[39mparse_dates,\n\u001b[0;32m    660\u001b[0m             chunksize\u001b[38;5;241m=\u001b[39mchunksize,\n\u001b[0;32m    661\u001b[0m             dtype_backend\u001b[38;5;241m=\u001b[39mdtype_backend,\n\u001b[0;32m    662\u001b[0m             dtype\u001b[38;5;241m=\u001b[39mdtype,\n\u001b[0;32m    663\u001b[0m         )\n\u001b[0;32m    665\u001b[0m     \u001b[38;5;28;01mtry\u001b[39;00m:\n\u001b[0;32m    666\u001b[0m         _is_table_name \u001b[38;5;241m=\u001b[39m pandas_sql\u001b[38;5;241m.\u001b[39mhas_table(sql)\n",
      "File \u001b[1;32m~\\anaconda3\\Lib\\site-packages\\pandas\\io\\sql.py:2327\u001b[0m, in \u001b[0;36mSQLiteDatabase.read_query\u001b[1;34m(self, sql, index_col, coerce_float, parse_dates, params, chunksize, dtype, dtype_backend)\u001b[0m\n\u001b[0;32m   2315\u001b[0m \u001b[38;5;28;01mdef\u001b[39;00m \u001b[38;5;21mread_query\u001b[39m(\n\u001b[0;32m   2316\u001b[0m     \u001b[38;5;28mself\u001b[39m,\n\u001b[0;32m   2317\u001b[0m     sql,\n\u001b[1;32m   (...)\u001b[0m\n\u001b[0;32m   2324\u001b[0m     dtype_backend: DtypeBackend \u001b[38;5;241m|\u001b[39m Literal[\u001b[38;5;124m\"\u001b[39m\u001b[38;5;124mnumpy\u001b[39m\u001b[38;5;124m\"\u001b[39m] \u001b[38;5;241m=\u001b[39m \u001b[38;5;124m\"\u001b[39m\u001b[38;5;124mnumpy\u001b[39m\u001b[38;5;124m\"\u001b[39m,\n\u001b[0;32m   2325\u001b[0m ) \u001b[38;5;241m-\u001b[39m\u001b[38;5;241m>\u001b[39m DataFrame \u001b[38;5;241m|\u001b[39m Iterator[DataFrame]:\n\u001b[0;32m   2326\u001b[0m     cursor \u001b[38;5;241m=\u001b[39m \u001b[38;5;28mself\u001b[39m\u001b[38;5;241m.\u001b[39mexecute(sql, params)\n\u001b[1;32m-> 2327\u001b[0m     columns \u001b[38;5;241m=\u001b[39m [col_desc[\u001b[38;5;241m0\u001b[39m] \u001b[38;5;28;01mfor\u001b[39;00m col_desc \u001b[38;5;129;01min\u001b[39;00m cursor\u001b[38;5;241m.\u001b[39mdescription]\n\u001b[0;32m   2329\u001b[0m     \u001b[38;5;28;01mif\u001b[39;00m chunksize \u001b[38;5;129;01mis\u001b[39;00m \u001b[38;5;129;01mnot\u001b[39;00m \u001b[38;5;28;01mNone\u001b[39;00m:\n\u001b[0;32m   2330\u001b[0m         \u001b[38;5;28;01mreturn\u001b[39;00m \u001b[38;5;28mself\u001b[39m\u001b[38;5;241m.\u001b[39m_query_iterator(\n\u001b[0;32m   2331\u001b[0m             cursor,\n\u001b[0;32m   2332\u001b[0m             chunksize,\n\u001b[1;32m   (...)\u001b[0m\n\u001b[0;32m   2338\u001b[0m             dtype_backend\u001b[38;5;241m=\u001b[39mdtype_backend,\n\u001b[0;32m   2339\u001b[0m         )\n",
      "\u001b[1;31mTypeError\u001b[0m: 'NoneType' object is not iterable"
     ]
    }
   ],
   "source": [
    "query_statement = f\"DELETE FROM INSTRUCTOR WHERE CITY = 'Paris' AND CCODE = 'FR'\"\n",
    "query_output = pd.read_sql(query_statement, conn)\n",
    "print(query_statement)\n",
    "print(query_output)"
   ]
  },
  {
   "cell_type": "markdown",
   "id": "f3c8f18b",
   "metadata": {},
   "source": [
    "-------------------------------"
   ]
  },
  {
   "cell_type": "code",
   "execution_count": 87,
   "id": "3c1aa26b",
   "metadata": {},
   "outputs": [
    {
     "ename": "TypeError",
     "evalue": "'NoneType' object is not iterable",
     "output_type": "error",
     "traceback": [
      "\u001b[1;31m---------------------------------------------------------------------------\u001b[0m",
      "\u001b[1;31mTypeError\u001b[0m                                 Traceback (most recent call last)",
      "Cell \u001b[1;32mIn[87], line 2\u001b[0m\n\u001b[0;32m      1\u001b[0m uery_statement \u001b[38;5;241m=\u001b[39m \u001b[38;5;124mf\u001b[39m\u001b[38;5;124m\"\u001b[39m\u001b[38;5;124mSELECT * FROM \u001b[39m\u001b[38;5;132;01m{\u001b[39;00mtable_name\u001b[38;5;132;01m}\u001b[39;00m\u001b[38;5;124m\"\u001b[39m\n\u001b[1;32m----> 2\u001b[0m query_output \u001b[38;5;241m=\u001b[39m pd\u001b[38;5;241m.\u001b[39mread_sql(query_statement, conn)\n\u001b[0;32m      3\u001b[0m \u001b[38;5;28mprint\u001b[39m(query_statement)\n\u001b[0;32m      4\u001b[0m \u001b[38;5;28mprint\u001b[39m(query_output)\n",
      "File \u001b[1;32m~\\anaconda3\\Lib\\site-packages\\pandas\\io\\sql.py:654\u001b[0m, in \u001b[0;36mread_sql\u001b[1;34m(sql, con, index_col, coerce_float, params, parse_dates, columns, chunksize, dtype_backend, dtype)\u001b[0m\n\u001b[0;32m    652\u001b[0m \u001b[38;5;28;01mwith\u001b[39;00m pandasSQL_builder(con) \u001b[38;5;28;01mas\u001b[39;00m pandas_sql:\n\u001b[0;32m    653\u001b[0m     \u001b[38;5;28;01mif\u001b[39;00m \u001b[38;5;28misinstance\u001b[39m(pandas_sql, SQLiteDatabase):\n\u001b[1;32m--> 654\u001b[0m         \u001b[38;5;28;01mreturn\u001b[39;00m pandas_sql\u001b[38;5;241m.\u001b[39mread_query(\n\u001b[0;32m    655\u001b[0m             sql,\n\u001b[0;32m    656\u001b[0m             index_col\u001b[38;5;241m=\u001b[39mindex_col,\n\u001b[0;32m    657\u001b[0m             params\u001b[38;5;241m=\u001b[39mparams,\n\u001b[0;32m    658\u001b[0m             coerce_float\u001b[38;5;241m=\u001b[39mcoerce_float,\n\u001b[0;32m    659\u001b[0m             parse_dates\u001b[38;5;241m=\u001b[39mparse_dates,\n\u001b[0;32m    660\u001b[0m             chunksize\u001b[38;5;241m=\u001b[39mchunksize,\n\u001b[0;32m    661\u001b[0m             dtype_backend\u001b[38;5;241m=\u001b[39mdtype_backend,\n\u001b[0;32m    662\u001b[0m             dtype\u001b[38;5;241m=\u001b[39mdtype,\n\u001b[0;32m    663\u001b[0m         )\n\u001b[0;32m    665\u001b[0m     \u001b[38;5;28;01mtry\u001b[39;00m:\n\u001b[0;32m    666\u001b[0m         _is_table_name \u001b[38;5;241m=\u001b[39m pandas_sql\u001b[38;5;241m.\u001b[39mhas_table(sql)\n",
      "File \u001b[1;32m~\\anaconda3\\Lib\\site-packages\\pandas\\io\\sql.py:2327\u001b[0m, in \u001b[0;36mSQLiteDatabase.read_query\u001b[1;34m(self, sql, index_col, coerce_float, parse_dates, params, chunksize, dtype, dtype_backend)\u001b[0m\n\u001b[0;32m   2315\u001b[0m \u001b[38;5;28;01mdef\u001b[39;00m \u001b[38;5;21mread_query\u001b[39m(\n\u001b[0;32m   2316\u001b[0m     \u001b[38;5;28mself\u001b[39m,\n\u001b[0;32m   2317\u001b[0m     sql,\n\u001b[1;32m   (...)\u001b[0m\n\u001b[0;32m   2324\u001b[0m     dtype_backend: DtypeBackend \u001b[38;5;241m|\u001b[39m Literal[\u001b[38;5;124m\"\u001b[39m\u001b[38;5;124mnumpy\u001b[39m\u001b[38;5;124m\"\u001b[39m] \u001b[38;5;241m=\u001b[39m \u001b[38;5;124m\"\u001b[39m\u001b[38;5;124mnumpy\u001b[39m\u001b[38;5;124m\"\u001b[39m,\n\u001b[0;32m   2325\u001b[0m ) \u001b[38;5;241m-\u001b[39m\u001b[38;5;241m>\u001b[39m DataFrame \u001b[38;5;241m|\u001b[39m Iterator[DataFrame]:\n\u001b[0;32m   2326\u001b[0m     cursor \u001b[38;5;241m=\u001b[39m \u001b[38;5;28mself\u001b[39m\u001b[38;5;241m.\u001b[39mexecute(sql, params)\n\u001b[1;32m-> 2327\u001b[0m     columns \u001b[38;5;241m=\u001b[39m [col_desc[\u001b[38;5;241m0\u001b[39m] \u001b[38;5;28;01mfor\u001b[39;00m col_desc \u001b[38;5;129;01min\u001b[39;00m cursor\u001b[38;5;241m.\u001b[39mdescription]\n\u001b[0;32m   2329\u001b[0m     \u001b[38;5;28;01mif\u001b[39;00m chunksize \u001b[38;5;129;01mis\u001b[39;00m \u001b[38;5;129;01mnot\u001b[39;00m \u001b[38;5;28;01mNone\u001b[39;00m:\n\u001b[0;32m   2330\u001b[0m         \u001b[38;5;28;01mreturn\u001b[39;00m \u001b[38;5;28mself\u001b[39m\u001b[38;5;241m.\u001b[39m_query_iterator(\n\u001b[0;32m   2331\u001b[0m             cursor,\n\u001b[0;32m   2332\u001b[0m             chunksize,\n\u001b[1;32m   (...)\u001b[0m\n\u001b[0;32m   2338\u001b[0m             dtype_backend\u001b[38;5;241m=\u001b[39mdtype_backend,\n\u001b[0;32m   2339\u001b[0m         )\n",
      "\u001b[1;31mTypeError\u001b[0m: 'NoneType' object is not iterable"
     ]
    }
   ],
   "source": [
    "uery_statement = f\"SELECT * FROM {table_name}\"\n",
    "query_output = pd.read_sql(query_statement, conn)\n",
    "print(query_statement)\n",
    "print(query_output)"
   ]
  },
  {
   "cell_type": "code",
   "execution_count": null,
   "id": "54f36bb9",
   "metadata": {},
   "outputs": [],
   "source": []
  }
 ],
 "metadata": {
  "kernelspec": {
   "display_name": "Python 3 (ipykernel)",
   "language": "python",
   "name": "python3"
  },
  "language_info": {
   "codemirror_mode": {
    "name": "ipython",
    "version": 3
   },
   "file_extension": ".py",
   "mimetype": "text/x-python",
   "name": "python",
   "nbconvert_exporter": "python",
   "pygments_lexer": "ipython3",
   "version": "3.11.7"
  }
 },
 "nbformat": 4,
 "nbformat_minor": 5
}
